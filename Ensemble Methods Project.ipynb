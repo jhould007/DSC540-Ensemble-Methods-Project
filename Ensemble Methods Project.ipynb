{
 "cells": [
  {
   "cell_type": "markdown",
   "id": "69779549",
   "metadata": {},
   "source": [
    "# Ensemble Methods Project\n",
    "By Josh Houlding\n",
    "\n",
    "Ensemble learning is a general approach where the combination of related methods provides better predictions or improves overall performance. Some real-world examples of its use include the Netflix Challenge, gene classification, image segmentation, and video retrieval.\n",
    "\n",
    "In this assignment, you will implement ensemble learning, combining a variety of learning methods such as max voting, averaging, weighted averaging, bagging, boosting (gradient boosting, random forest, XGBoost, etc.), stacking, blending, and other variations.\n",
    "\n",
    "You will have the freedom to choose between implementing classification or regression machine learning, or a combination of the two, so choose your ensemble techniques accordingly.\n",
    "\n",
    "# Part 1\n",
    "\n",
    "1. Access the \"UCI Machine Learning Repository,\" located in the topic Resources. Note: There are about 120 data sets that are suitable for use in a clustering task. For this part of the exercise, you must choose one of these datasets, provided it includes at least 10 attributes and 10,000 instances\n",
    "2. Ensure that the datasets are suitable for clustering using this method.\n",
    "3. You may search for data in other repositories, such as Data.gov or Kaggle.\n",
    "\n",
    "# Part 2\n",
    "\n",
    "For your selected dataset, build an ensemble model as follows:\n",
    "1. Explain the dataset and the type of information you wish to gain by applying an ensemble method.\n",
    "2. Explain the ensemble components and how you will be using it in your analysis (list the steps, intuition behind the mathematical representation, and address its assumptions). Specifically, which of max voting, averaging, weighted averaging, bagging, boosting (gradient boosting, random forest, XGBoost, etc.), stacking, blending, and/or other variations have you chosen, and why.\n",
    "3. Import necessary libraries, then read the dataset into a data frame and perform initial statistical exploration.\n",
    "4. Clean the data and address unusual phenomena (e.g., normalization, feature scaling, outliers); use illustrative diagrams and plots and explain them.\n",
    "5. Formulate two questions that can be answered by employing the ensemble learning\n",
    "6. If appropriate and relevant to your model, split the data into training and testing sets.\n",
    "7. Provide a diagram that illustrates how the ensemble components are combined into one learning model.\n",
    "8. Implement and execute the ensemble learning model. Explain the intuition behind each mathematical step.\n",
    "9. Answer the questions you formulated using the results obtained from executing the ensemble model.\n",
    "10. Interpret the predictions made by the model in the context of the questions you asked.\n",
    "11. Validate your model using relevant validation metrics such as a confusion matrix, accuracy score, ROC-AUC curves, and k-fold cross validation. Then, explain the results.\n",
    "12. Explain how ensemble system reduced the variance.\n",
    "13. Include all mathematical formulas used and graphs representing the final outcomes."
   ]
  },
  {
   "cell_type": "markdown",
   "id": "fc6d091c",
   "metadata": {},
   "source": [
    "# <span style=\"color:#8080ff\">Part 1</span>\n",
    "\n",
    "# Tasks 1.1-1.3\n",
    "\n",
    "<b>1.1:</b><i> Access the \"UCI Machine Learning Repository,\" located in the topic Resources. Note: There are about 120 data sets that are suitable for use in a clustering task. For this part of the exercise, you must choose two of these datasets, provided they include at least 10 attributes and 10,000 instances.</i>\n",
    "\n",
    "<b>1.2:</b><i> Ensure that the data sets are suitable for clustering using this method.</i>\n",
    "\n",
    "<b>1.3:</b><i> You may search for data in other repositories, such as Data.gov or Kaggle.</i>\n",
    "\n",
    "<b>Dataset Selected:</b> \"Weather Type Classification\" (Kaggle) <br>\n",
    "<b>Tagline:</b> \"This dataset is synthetically generated to mimic weather data for classification tasks. It includes various weather-related features and categorizes the weather into four types: Rainy, Sunny, Cloudy, and Snowy. This dataset is designed for practicing classification algorithms, data preprocessing, and outlier detection methods.\" <br>\n",
    "<b>Link:</b> https://www.kaggle.com/datasets/nikhil7280/weather-type-classification"
   ]
  },
  {
   "cell_type": "markdown",
   "id": "c6037a66",
   "metadata": {},
   "source": [
    "# <span style=\"color:#1f6635\">Part 2</span>\n",
    "\n",
    "# Task 2.1\n",
    "<i>Explain the dataset and the type of information you wish to gain by applying an ensemble method.</i>\n",
    "\n",
    "This dataset is a synthetically-generated collection of weather instances, and is intended for use in classification models to predict the weather type (rainy, sunny, cloudy, or snowy) based on factors like temperature, humidity, wind speed, and season. An ensemble method can be used to build a robust classification model that will predict the type of weather on a given day based on the features provided.\n",
    "\n",
    "# Task 2.2\n",
    "<i>Explain the ensemble components and how you will be using it in your analysis (list the steps, intuition behind the mathematical representation, and address its assumptions). Specifically, which of max voting, averaging, weighted averaging, bagging, boosting (gradient boosting, random forest, XGBoost, etc.), stacking, blending, and/or other variations have you chosen, and why.</i>\n",
    "\n",
    "I will be using the Random Forest and XGBoost algorithms to generate initial predictions, and then stacking to combine these two predictions into one final prediction. To go into more detail: \n",
    "\n",
    "* <b>Random Forest</b> is a bagging technique that relies on multiple decision trees. Each tree is trained using a random subset of the data and features, and the final prediction made by a random forest is usually the mode (most common value) of individual tree predictions. Random forests work well with mixed data types, are more robust against overfitting than individual decision trees, and are effective at capturing nonlinear relationships in the data. The only major assumption made by a random forest is that the selected features have at least some utility in predicting the label.\n",
    "* <b>XGBoost (Extreme Gradient Boosting)</b> is a boosting algorithm that builds trees sequentially, with each tree correcting the errors of all the previous ones. The overall algorithm attempts to minimize a loss function using gradient descent. Like random forests, XGBoost is also highly resistant to overfitting, and it is also efficient to run. This algorithm assumes that the true underlying function can be approximated by the iterative process of creating trees that correct the errors of their predecessors.\n",
    "* Finally, <b>stacking</b> is a meta-ensemble method that uses another model to rigorously combine predictions from multiple other models. It is more capable of leveraging the strengths of each previous model than any of the simpler aggregation techniques (eg. max voting), because it can take into account the characteristics of the data rather than simply relying on a fixed rule. This is the tool we'll be using to combine the results of our random forest and XGBoost models.\n",
    "\n",
    "# Task 2.3\n",
    "<i>Import necessary libraries, then read the dataset into a data frame and perform initial statistical exploration.</i>\n",
    "\n",
    "### Loading the data"
   ]
  },
  {
   "cell_type": "code",
   "execution_count": 1,
   "id": "13d211ee",
   "metadata": {
    "scrolled": true
   },
   "outputs": [
    {
     "name": "stdout",
     "output_type": "stream",
     "text": [
      "Data shape: (13200, 11)\n"
     ]
    },
    {
     "data": {
      "text/html": [
       "<div>\n",
       "<style scoped>\n",
       "    .dataframe tbody tr th:only-of-type {\n",
       "        vertical-align: middle;\n",
       "    }\n",
       "\n",
       "    .dataframe tbody tr th {\n",
       "        vertical-align: top;\n",
       "    }\n",
       "\n",
       "    .dataframe thead th {\n",
       "        text-align: right;\n",
       "    }\n",
       "</style>\n",
       "<table border=\"1\" class=\"dataframe\">\n",
       "  <thead>\n",
       "    <tr style=\"text-align: right;\">\n",
       "      <th></th>\n",
       "      <th>Temperature</th>\n",
       "      <th>Humidity</th>\n",
       "      <th>Wind Speed</th>\n",
       "      <th>Precipitation (%)</th>\n",
       "      <th>Cloud Cover</th>\n",
       "      <th>Atmospheric Pressure</th>\n",
       "      <th>UV Index</th>\n",
       "      <th>Season</th>\n",
       "      <th>Visibility (km)</th>\n",
       "      <th>Location</th>\n",
       "      <th>Weather Type</th>\n",
       "    </tr>\n",
       "  </thead>\n",
       "  <tbody>\n",
       "    <tr>\n",
       "      <th>4111</th>\n",
       "      <td>23.0</td>\n",
       "      <td>38</td>\n",
       "      <td>4.5</td>\n",
       "      <td>6.0</td>\n",
       "      <td>clear</td>\n",
       "      <td>1021.19</td>\n",
       "      <td>9</td>\n",
       "      <td>Autumn</td>\n",
       "      <td>10.0</td>\n",
       "      <td>inland</td>\n",
       "      <td>Sunny</td>\n",
       "    </tr>\n",
       "    <tr>\n",
       "      <th>10607</th>\n",
       "      <td>62.0</td>\n",
       "      <td>94</td>\n",
       "      <td>14.5</td>\n",
       "      <td>83.0</td>\n",
       "      <td>clear</td>\n",
       "      <td>1025.57</td>\n",
       "      <td>10</td>\n",
       "      <td>Summer</td>\n",
       "      <td>4.0</td>\n",
       "      <td>inland</td>\n",
       "      <td>Sunny</td>\n",
       "    </tr>\n",
       "    <tr>\n",
       "      <th>7372</th>\n",
       "      <td>40.0</td>\n",
       "      <td>51</td>\n",
       "      <td>2.0</td>\n",
       "      <td>12.0</td>\n",
       "      <td>partly cloudy</td>\n",
       "      <td>1025.15</td>\n",
       "      <td>8</td>\n",
       "      <td>Spring</td>\n",
       "      <td>8.0</td>\n",
       "      <td>mountain</td>\n",
       "      <td>Sunny</td>\n",
       "    </tr>\n",
       "    <tr>\n",
       "      <th>11786</th>\n",
       "      <td>-7.0</td>\n",
       "      <td>79</td>\n",
       "      <td>6.5</td>\n",
       "      <td>90.0</td>\n",
       "      <td>overcast</td>\n",
       "      <td>993.56</td>\n",
       "      <td>0</td>\n",
       "      <td>Winter</td>\n",
       "      <td>1.5</td>\n",
       "      <td>inland</td>\n",
       "      <td>Snowy</td>\n",
       "    </tr>\n",
       "    <tr>\n",
       "      <th>12227</th>\n",
       "      <td>21.0</td>\n",
       "      <td>94</td>\n",
       "      <td>10.0</td>\n",
       "      <td>109.0</td>\n",
       "      <td>partly cloudy</td>\n",
       "      <td>1027.71</td>\n",
       "      <td>11</td>\n",
       "      <td>Spring</td>\n",
       "      <td>9.0</td>\n",
       "      <td>mountain</td>\n",
       "      <td>Sunny</td>\n",
       "    </tr>\n",
       "  </tbody>\n",
       "</table>\n",
       "</div>"
      ],
      "text/plain": [
       "       Temperature  Humidity  Wind Speed  Precipitation (%)    Cloud Cover  \\\n",
       "4111          23.0        38         4.5                6.0          clear   \n",
       "10607         62.0        94        14.5               83.0          clear   \n",
       "7372          40.0        51         2.0               12.0  partly cloudy   \n",
       "11786         -7.0        79         6.5               90.0       overcast   \n",
       "12227         21.0        94        10.0              109.0  partly cloudy   \n",
       "\n",
       "       Atmospheric Pressure  UV Index  Season  Visibility (km)  Location  \\\n",
       "4111                1021.19         9  Autumn             10.0    inland   \n",
       "10607               1025.57        10  Summer              4.0    inland   \n",
       "7372                1025.15         8  Spring              8.0  mountain   \n",
       "11786                993.56         0  Winter              1.5    inland   \n",
       "12227               1027.71        11  Spring              9.0  mountain   \n",
       "\n",
       "      Weather Type  \n",
       "4111         Sunny  \n",
       "10607        Sunny  \n",
       "7372         Sunny  \n",
       "11786        Snowy  \n",
       "12227        Sunny  "
      ]
     },
     "execution_count": 1,
     "metadata": {},
     "output_type": "execute_result"
    }
   ],
   "source": [
    "import pandas as pd\n",
    "\n",
    "# Load data\n",
    "df = pd.read_csv(\"weather_classification_data.csv\")\n",
    "print(f\"Data shape: {df.shape}\")\n",
    "df.sample(5, random_state=42)"
   ]
  },
  {
   "cell_type": "markdown",
   "id": "4c5d937b",
   "metadata": {},
   "source": [
    "### Variable information (from Kaggle page)\n",
    "* `Temperature` (°C) (numeric): The temperature in degrees Celsius, ranging from extreme cold to extreme heat.\n",
    "* `Humidity` (%) (numeric): The humidity percentage, including values above 100% to introduce outliers.\n",
    "* `Wind Speed` (km/h) (numeric): The wind speed in kilometers per hour, with a range including unrealistically high values.\n",
    "* `Precipitation` (%) (numeric): The precipitation percentage, including outlier values.\n",
    "* `Cloud Cover` (categorical): The cloud cover description.\n",
    "* `Atmospheric Pressure` (hPa) (numeric): The atmospheric pressure in hPa, covering a wide range.\n",
    "* `UV Index` (numeric): The UV index, indicating the strength of ultraviolet radiation.\n",
    "* `Season` (categorical): The season during which the data was recorded.\n",
    "* `Visibility` (km) (numeric): The visibility in kilometers, including very low or very high values.\n",
    "* `Location` (categorical): The type of location where the data was recorded.\n",
    "* `Weather Type` (categorical): The target variable for classification, indicating the weather type."
   ]
  },
  {
   "cell_type": "markdown",
   "id": "5e3bf525",
   "metadata": {},
   "source": [
    "### Renaming columns"
   ]
  },
  {
   "cell_type": "code",
   "execution_count": 2,
   "id": "1b93974c",
   "metadata": {},
   "outputs": [
    {
     "data": {
      "text/plain": [
       "Index(['temperature', 'humidity', 'wind_speed', 'precipitation', 'cloud_cover',\n",
       "       'atmos_pressure', 'uv_index', 'season', 'visibility', 'location',\n",
       "       'weather_type'],\n",
       "      dtype='object')"
      ]
     },
     "execution_count": 2,
     "metadata": {},
     "output_type": "execute_result"
    }
   ],
   "source": [
    "# Create new names for columns\n",
    "new_column_mapping = {\"Temperature\": \"temperature\", \"Humidity\": \"humidity\", \"Wind Speed\": \"wind_speed\",\n",
    "                      \"Precipitation (%)\": \"precipitation\", \"Cloud Cover\": \"cloud_cover\", \n",
    "                      \"Atmospheric Pressure\": \"atmos_pressure\", \"UV Index\": \"uv_index\", \"Season\": \"season\", \n",
    "                      \"Visibility (km)\": \"visibility\", \"Location\": \"location\", \"Weather Type\": \"weather_type\"}\n",
    "\n",
    "# Apply mapping to dataframe\n",
    "df.rename(columns=new_column_mapping, inplace=True)\n",
    "\n",
    "# Show new column names\n",
    "df.columns"
   ]
  },
  {
   "cell_type": "markdown",
   "id": "956f8813",
   "metadata": {},
   "source": [
    "### Showing descriptive statistics for numeric features"
   ]
  },
  {
   "cell_type": "code",
   "execution_count": 3,
   "id": "f7f32aa5",
   "metadata": {},
   "outputs": [
    {
     "data": {
      "text/html": [
       "<div>\n",
       "<style scoped>\n",
       "    .dataframe tbody tr th:only-of-type {\n",
       "        vertical-align: middle;\n",
       "    }\n",
       "\n",
       "    .dataframe tbody tr th {\n",
       "        vertical-align: top;\n",
       "    }\n",
       "\n",
       "    .dataframe thead th {\n",
       "        text-align: right;\n",
       "    }\n",
       "</style>\n",
       "<table border=\"1\" class=\"dataframe\">\n",
       "  <thead>\n",
       "    <tr style=\"text-align: right;\">\n",
       "      <th></th>\n",
       "      <th>temperature</th>\n",
       "      <th>humidity</th>\n",
       "      <th>wind_speed</th>\n",
       "      <th>precipitation</th>\n",
       "      <th>atmos_pressure</th>\n",
       "      <th>uv_index</th>\n",
       "      <th>visibility</th>\n",
       "    </tr>\n",
       "  </thead>\n",
       "  <tbody>\n",
       "    <tr>\n",
       "      <th>count</th>\n",
       "      <td>13200.000</td>\n",
       "      <td>13200.000</td>\n",
       "      <td>13200.000</td>\n",
       "      <td>13200.000</td>\n",
       "      <td>13200.000</td>\n",
       "      <td>13200.000</td>\n",
       "      <td>13200.000</td>\n",
       "    </tr>\n",
       "    <tr>\n",
       "      <th>mean</th>\n",
       "      <td>19.128</td>\n",
       "      <td>68.711</td>\n",
       "      <td>9.832</td>\n",
       "      <td>53.644</td>\n",
       "      <td>1005.828</td>\n",
       "      <td>4.006</td>\n",
       "      <td>5.463</td>\n",
       "    </tr>\n",
       "    <tr>\n",
       "      <th>std</th>\n",
       "      <td>17.386</td>\n",
       "      <td>20.194</td>\n",
       "      <td>6.909</td>\n",
       "      <td>31.947</td>\n",
       "      <td>37.200</td>\n",
       "      <td>3.857</td>\n",
       "      <td>3.371</td>\n",
       "    </tr>\n",
       "    <tr>\n",
       "      <th>min</th>\n",
       "      <td>-25.000</td>\n",
       "      <td>20.000</td>\n",
       "      <td>0.000</td>\n",
       "      <td>0.000</td>\n",
       "      <td>800.120</td>\n",
       "      <td>0.000</td>\n",
       "      <td>0.000</td>\n",
       "    </tr>\n",
       "    <tr>\n",
       "      <th>25%</th>\n",
       "      <td>4.000</td>\n",
       "      <td>57.000</td>\n",
       "      <td>5.000</td>\n",
       "      <td>19.000</td>\n",
       "      <td>994.800</td>\n",
       "      <td>1.000</td>\n",
       "      <td>3.000</td>\n",
       "    </tr>\n",
       "    <tr>\n",
       "      <th>50%</th>\n",
       "      <td>21.000</td>\n",
       "      <td>70.000</td>\n",
       "      <td>9.000</td>\n",
       "      <td>58.000</td>\n",
       "      <td>1007.650</td>\n",
       "      <td>3.000</td>\n",
       "      <td>5.000</td>\n",
       "    </tr>\n",
       "    <tr>\n",
       "      <th>75%</th>\n",
       "      <td>31.000</td>\n",
       "      <td>84.000</td>\n",
       "      <td>13.500</td>\n",
       "      <td>82.000</td>\n",
       "      <td>1016.772</td>\n",
       "      <td>7.000</td>\n",
       "      <td>7.500</td>\n",
       "    </tr>\n",
       "    <tr>\n",
       "      <th>max</th>\n",
       "      <td>109.000</td>\n",
       "      <td>109.000</td>\n",
       "      <td>48.500</td>\n",
       "      <td>109.000</td>\n",
       "      <td>1199.210</td>\n",
       "      <td>14.000</td>\n",
       "      <td>20.000</td>\n",
       "    </tr>\n",
       "  </tbody>\n",
       "</table>\n",
       "</div>"
      ],
      "text/plain": [
       "       temperature   humidity  wind_speed  precipitation  atmos_pressure  \\\n",
       "count    13200.000  13200.000   13200.000      13200.000       13200.000   \n",
       "mean        19.128     68.711       9.832         53.644        1005.828   \n",
       "std         17.386     20.194       6.909         31.947          37.200   \n",
       "min        -25.000     20.000       0.000          0.000         800.120   \n",
       "25%          4.000     57.000       5.000         19.000         994.800   \n",
       "50%         21.000     70.000       9.000         58.000        1007.650   \n",
       "75%         31.000     84.000      13.500         82.000        1016.772   \n",
       "max        109.000    109.000      48.500        109.000        1199.210   \n",
       "\n",
       "        uv_index  visibility  \n",
       "count  13200.000   13200.000  \n",
       "mean       4.006       5.463  \n",
       "std        3.857       3.371  \n",
       "min        0.000       0.000  \n",
       "25%        1.000       3.000  \n",
       "50%        3.000       5.000  \n",
       "75%        7.000       7.500  \n",
       "max       14.000      20.000  "
      ]
     },
     "execution_count": 3,
     "metadata": {},
     "output_type": "execute_result"
    }
   ],
   "source": [
    "# Show descriptive statistics for numeric features\n",
    "df.describe().round(3)"
   ]
  },
  {
   "cell_type": "markdown",
   "id": "c3ffb0d0",
   "metadata": {},
   "source": [
    "We see that the max humidity and precipitation values are 109, which doesn't make sense when we consider that these features are expressed as percentages. The max temperature is 109 degrees Celsius as well, which is above boiling! The dataset description on Kaggle does say this, however: \n",
    "> This dataset is synthetically produced and does not convey real-world weather data. <span style=\"color:red\">It includes intentional outliers to provide opportunities for practicing outlier detection and handling </span>. The values, ranges, and distributions may not accurately represent real-world conditions, and the data should primarily be used for educational and experimental purposes.\n",
    "\n",
    "These outliers will need to be corrected later on to ensure model accuracy."
   ]
  },
  {
   "cell_type": "markdown",
   "id": "e98b7e25",
   "metadata": {},
   "source": [
    "### Showing value counts for categorical features"
   ]
  },
  {
   "cell_type": "code",
   "execution_count": 4,
   "id": "8c11b09e",
   "metadata": {},
   "outputs": [
    {
     "name": "stdout",
     "output_type": "stream",
     "text": [
      "cloud_cover\n",
      "overcast         6090\n",
      "partly cloudy    4560\n",
      "clear            2139\n",
      "cloudy            411\n",
      "Name: count, dtype: int64 \n",
      "\n",
      "season\n",
      "Winter    5610\n",
      "Spring    2598\n",
      "Autumn    2500\n",
      "Summer    2492\n",
      "Name: count, dtype: int64 \n",
      "\n",
      "location\n",
      "inland      4816\n",
      "mountain    4813\n",
      "coastal     3571\n",
      "Name: count, dtype: int64 \n",
      "\n",
      "weather_type\n",
      "Rainy     3300\n",
      "Cloudy    3300\n",
      "Sunny     3300\n",
      "Snowy     3300\n",
      "Name: count, dtype: int64 \n",
      "\n"
     ]
    }
   ],
   "source": [
    "# Show value counts for categorical features\n",
    "for col in df.columns: \n",
    "    if df[col].dtype == \"O\": \n",
    "        print(df[col].value_counts(), \"\\n\")"
   ]
  },
  {
   "cell_type": "markdown",
   "id": "9b485acf",
   "metadata": {},
   "source": [
    "* `cloud_cover`: We see that cloudy days are severely underrepresented, with overcast and partly cloudy being far more common.\n",
    "* `season`: Winter days are far more common than any other season, with all three of the other seasons being about equally common.\n",
    "* `location`: Locations are moderately well-distributed, with a slight lack of coastal locations.\n",
    "* `weather_type`: All weather types are equally present, ensuring no class imbalance is present. This means that the model will not be under-trained on any particular weather type, preventing poor performance with less common ones."
   ]
  },
  {
   "cell_type": "markdown",
   "id": "e50f48d3",
   "metadata": {},
   "source": [
    "### Showing dataset info"
   ]
  },
  {
   "cell_type": "code",
   "execution_count": 5,
   "id": "2d51f141",
   "metadata": {},
   "outputs": [
    {
     "name": "stdout",
     "output_type": "stream",
     "text": [
      "<class 'pandas.core.frame.DataFrame'>\n",
      "RangeIndex: 13200 entries, 0 to 13199\n",
      "Data columns (total 11 columns):\n",
      " #   Column          Non-Null Count  Dtype  \n",
      "---  ------          --------------  -----  \n",
      " 0   temperature     13200 non-null  float64\n",
      " 1   humidity        13200 non-null  int64  \n",
      " 2   wind_speed      13200 non-null  float64\n",
      " 3   precipitation   13200 non-null  float64\n",
      " 4   cloud_cover     13200 non-null  object \n",
      " 5   atmos_pressure  13200 non-null  float64\n",
      " 6   uv_index        13200 non-null  int64  \n",
      " 7   season          13200 non-null  object \n",
      " 8   visibility      13200 non-null  float64\n",
      " 9   location        13200 non-null  object \n",
      " 10  weather_type    13200 non-null  object \n",
      "dtypes: float64(5), int64(2), object(4)\n",
      "memory usage: 1.1+ MB\n"
     ]
    }
   ],
   "source": [
    "df.info()"
   ]
  },
  {
   "cell_type": "markdown",
   "id": "5f966de7",
   "metadata": {},
   "source": [
    "There are several categorical variables in our data that will need to be encoded to a numeric format for modeling."
   ]
  },
  {
   "cell_type": "markdown",
   "id": "34af10cd",
   "metadata": {},
   "source": [
    "# Task 2.4\n",
    "<i>Clean the data and address unusual phenomena (e.g., normalization, feature scaling, outliers); use illustrative diagrams and plots and explain them.</i>"
   ]
  },
  {
   "cell_type": "markdown",
   "id": "7d443412",
   "metadata": {},
   "source": [
    "### Removing duplicates"
   ]
  },
  {
   "cell_type": "code",
   "execution_count": 6,
   "id": "702b50ed",
   "metadata": {},
   "outputs": [
    {
     "name": "stdout",
     "output_type": "stream",
     "text": [
      "Number of duplicate rows: 0\n"
     ]
    }
   ],
   "source": [
    "# Find number of duplicate rows\n",
    "print(f\"Number of duplicate rows: {df.duplicated().sum()}\")"
   ]
  },
  {
   "cell_type": "markdown",
   "id": "7f4d7c8f",
   "metadata": {},
   "source": [
    "There are no duplicates present in this dataset, so duplicates will not be a problem."
   ]
  },
  {
   "cell_type": "markdown",
   "id": "eee53da9",
   "metadata": {},
   "source": [
    "### Handling missing values"
   ]
  },
  {
   "cell_type": "code",
   "execution_count": 7,
   "id": "6dd091f1",
   "metadata": {},
   "outputs": [
    {
     "name": "stdout",
     "output_type": "stream",
     "text": [
      "Number of rows with missing values: 0\n"
     ]
    }
   ],
   "source": [
    "# Find number of rows with missing values\n",
    "print(f\"Number of rows with missing values: {df.isna().any(axis=1).sum()}\")"
   ]
  },
  {
   "cell_type": "markdown",
   "id": "cd7644c7",
   "metadata": {},
   "source": [
    "There are no missing values either."
   ]
  },
  {
   "cell_type": "markdown",
   "id": "54d95202",
   "metadata": {},
   "source": [
    "### Setting all categorical values to lowercase\n",
    "This will ensure the dummy variable columns created for our categorical columns will be lowercase. "
   ]
  },
  {
   "cell_type": "code",
   "execution_count": 8,
   "id": "171b2e82",
   "metadata": {},
   "outputs": [],
   "source": [
    "for col in df.columns: \n",
    "    if df[col].dtype == \"O\": \n",
    "        df[col] = df[col].str.lower()"
   ]
  },
  {
   "cell_type": "markdown",
   "id": "7a13347f",
   "metadata": {},
   "source": [
    "### Converting data types\n",
    "We will now perform the following steps: \n",
    "* Apply one-hot encoding to the categorical features `cloud_cover`, `season`, and `location` (outputs columns of type `bool`). \n",
    "* Convert new dummy columns to `int` for modeling.\n",
    "* Convert the label `weather_type` to `int` using label encoding."
   ]
  },
  {
   "cell_type": "code",
   "execution_count": 9,
   "id": "5f12db55",
   "metadata": {},
   "outputs": [
    {
     "data": {
      "text/plain": [
       "Index(['temperature', 'humidity', 'wind_speed', 'precipitation',\n",
       "       'atmos_pressure', 'uv_index', 'visibility', 'weather_type',\n",
       "       'cloud_cover_cloudy', 'cloud_cover_overcast',\n",
       "       'cloud_cover_partly cloudy', 'season_spring', 'season_summer',\n",
       "       'season_winter', 'location_inland', 'location_mountain'],\n",
       "      dtype='object')"
      ]
     },
     "execution_count": 9,
     "metadata": {},
     "output_type": "execute_result"
    }
   ],
   "source": [
    "# Apply one-hot encoding to categorical features\n",
    "df = pd.get_dummies(df, columns=[\"cloud_cover\", \"season\", \"location\"], drop_first=True)\n",
    "\n",
    "# Show names of new dummy columns\n",
    "df.columns"
   ]
  },
  {
   "cell_type": "code",
   "execution_count": 10,
   "id": "89386e08",
   "metadata": {},
   "outputs": [
    {
     "data": {
      "text/plain": [
       "int32      9\n",
       "float64    5\n",
       "int64      2\n",
       "Name: count, dtype: int64"
      ]
     },
     "execution_count": 10,
     "metadata": {},
     "output_type": "execute_result"
    }
   ],
   "source": [
    "from sklearn.preprocessing import LabelEncoder\n",
    "\n",
    "# Convert dummy columns to int datatype\n",
    "for col in df.columns:\n",
    "    if df[col].dtype == \"bool\": \n",
    "        df[col] = df[col].astype(int)\n",
    "    \n",
    "# Store order of original weather type values\n",
    "original_label_values = df[\"weather_type\"].unique()\n",
    "    \n",
    "# Convert label \"weather_type\" to int\n",
    "encoder = LabelEncoder()\n",
    "df[\"weather_type\"] = encoder.fit_transform(df[\"weather_type\"])\n",
    "\n",
    "# Store order of encoded weather type values\n",
    "encoded_label_values = df[\"weather_type\"].unique()\n",
    "\n",
    "# Show counts of final data types\n",
    "df.dtypes.value_counts()"
   ]
  },
  {
   "cell_type": "markdown",
   "id": "3df5ead7",
   "metadata": {},
   "source": [
    "### Handling outliers\n",
    "We will start by capping the values of `temperature`, `humidity`, `precipitation`, and `atmos_pressure`. These cap values were decided by either logical necessity (percentages) or what is reasonable. \n",
    "\n",
    "* `temperature`: Cap at 50°C.\n",
    "* `humidity`: Cap at 100 (100%).\n",
    "* `precipitation`: Cap at 100 (100%).\n",
    "* `atmos_pressure`: Cap at 1050 hPa (this is the maximum pressure of a standard high-pressure system)."
   ]
  },
  {
   "cell_type": "code",
   "execution_count": 11,
   "id": "a06ecb6a",
   "metadata": {},
   "outputs": [
    {
     "data": {
      "text/html": [
       "<div>\n",
       "<style scoped>\n",
       "    .dataframe tbody tr th:only-of-type {\n",
       "        vertical-align: middle;\n",
       "    }\n",
       "\n",
       "    .dataframe tbody tr th {\n",
       "        vertical-align: top;\n",
       "    }\n",
       "\n",
       "    .dataframe thead th {\n",
       "        text-align: right;\n",
       "    }\n",
       "</style>\n",
       "<table border=\"1\" class=\"dataframe\">\n",
       "  <thead>\n",
       "    <tr style=\"text-align: right;\">\n",
       "      <th></th>\n",
       "      <th>temperature</th>\n",
       "      <th>humidity</th>\n",
       "      <th>precipitation</th>\n",
       "      <th>atmos_pressure</th>\n",
       "    </tr>\n",
       "  </thead>\n",
       "  <tbody>\n",
       "    <tr>\n",
       "      <th>count</th>\n",
       "      <td>13200.000</td>\n",
       "      <td>13200.000</td>\n",
       "      <td>13200.000</td>\n",
       "      <td>13200.000</td>\n",
       "    </tr>\n",
       "    <tr>\n",
       "      <th>mean</th>\n",
       "      <td>18.706</td>\n",
       "      <td>68.548</td>\n",
       "      <td>53.496</td>\n",
       "      <td>1003.133</td>\n",
       "    </tr>\n",
       "    <tr>\n",
       "      <th>std</th>\n",
       "      <td>16.292</td>\n",
       "      <td>19.914</td>\n",
       "      <td>31.715</td>\n",
       "      <td>29.404</td>\n",
       "    </tr>\n",
       "    <tr>\n",
       "      <th>min</th>\n",
       "      <td>-25.000</td>\n",
       "      <td>20.000</td>\n",
       "      <td>0.000</td>\n",
       "      <td>800.120</td>\n",
       "    </tr>\n",
       "    <tr>\n",
       "      <th>25%</th>\n",
       "      <td>4.000</td>\n",
       "      <td>57.000</td>\n",
       "      <td>19.000</td>\n",
       "      <td>994.800</td>\n",
       "    </tr>\n",
       "    <tr>\n",
       "      <th>50%</th>\n",
       "      <td>21.000</td>\n",
       "      <td>70.000</td>\n",
       "      <td>58.000</td>\n",
       "      <td>1007.650</td>\n",
       "    </tr>\n",
       "    <tr>\n",
       "      <th>75%</th>\n",
       "      <td>31.000</td>\n",
       "      <td>84.000</td>\n",
       "      <td>82.000</td>\n",
       "      <td>1016.772</td>\n",
       "    </tr>\n",
       "    <tr>\n",
       "      <th>max</th>\n",
       "      <td>50.000</td>\n",
       "      <td>100.000</td>\n",
       "      <td>100.000</td>\n",
       "      <td>1050.000</td>\n",
       "    </tr>\n",
       "  </tbody>\n",
       "</table>\n",
       "</div>"
      ],
      "text/plain": [
       "       temperature   humidity  precipitation  atmos_pressure\n",
       "count    13200.000  13200.000      13200.000       13200.000\n",
       "mean        18.706     68.548         53.496        1003.133\n",
       "std         16.292     19.914         31.715          29.404\n",
       "min        -25.000     20.000          0.000         800.120\n",
       "25%          4.000     57.000         19.000         994.800\n",
       "50%         21.000     70.000         58.000        1007.650\n",
       "75%         31.000     84.000         82.000        1016.772\n",
       "max         50.000    100.000        100.000        1050.000"
      ]
     },
     "execution_count": 11,
     "metadata": {},
     "output_type": "execute_result"
    }
   ],
   "source": [
    "import numpy as np\n",
    "\n",
    "# Cap values at defined thresholds\n",
    "df[\"temperature\"] = np.where(df[\"temperature\"] > 50, 50, df[\"temperature\"])\n",
    "df[\"humidity\"] = np.where(df[\"humidity\"] > 100, 100, df[\"humidity\"])\n",
    "df[\"precipitation\"] = np.where(df[\"precipitation\"] > 100, 100, df[\"precipitation\"])\n",
    "df[\"atmos_pressure\"] = np.where(df[\"atmos_pressure\"] > 1050, 1050, df[\"atmos_pressure\"])\n",
    "\n",
    "# View new descriptive statistics for these columns\n",
    "df[[\"temperature\", \"humidity\", \"precipitation\", \"atmos_pressure\"]].describe().round(3)"
   ]
  },
  {
   "cell_type": "markdown",
   "id": "74020166",
   "metadata": {},
   "source": [
    "Now that values for these columns have been capped, let's move on to dealing with general outliers. We will do this using the mean and standard deviation method, which calculates the mean and standard deviation of each numeric column and uses them to flag values that are above or below a certain threshold."
   ]
  },
  {
   "cell_type": "code",
   "execution_count": 12,
   "id": "da92f90d",
   "metadata": {},
   "outputs": [
    {
     "name": "stdout",
     "output_type": "stream",
     "text": [
      "Total number of entries: 13200\n",
      "Number of outliers: 1262\n"
     ]
    }
   ],
   "source": [
    "# Calculate mean and standard deviation\n",
    "mean = df.mean()\n",
    "std_dev = df.std()\n",
    "\n",
    "# Calculate upper and lower thresholds\n",
    "threshold = 3\n",
    "lower_threshold = mean - threshold * std_dev\n",
    "upper_threshold = mean + threshold * std_dev\n",
    "\n",
    "# Create dataframe to store outliers\n",
    "outliers = pd.DataFrame(False, index=df.index, columns=df.columns)\n",
    "\n",
    "# Find outliers for each column\n",
    "for col in df.columns:\n",
    "    outliers[col] = (df[col] < lower_threshold[col]) | (df[col] > upper_threshold[col])\n",
    "\n",
    "# Determine number of outliers\n",
    "outlier_count = outliers.sum().sum()\n",
    "\n",
    "# Print the results\n",
    "print(f\"Total number of entries: {len(df)}\")\n",
    "print(f\"Number of outliers: {outlier_count}\")"
   ]
  },
  {
   "cell_type": "markdown",
   "id": "422127a4",
   "metadata": {},
   "source": [
    "Outliers constitute almost 10% of our data, so removing them all could significantly impact the accuracy of the model. Thus, capping extreme high values and flooring extreme low values is the best approach due to its effectiveness and simplicity. Values above the upper threshold will be set equal to the upper threshold, and values below the lower threshold will be set equal to the lower threshold."
   ]
  },
  {
   "cell_type": "code",
   "execution_count": 13,
   "id": "42d70bcb",
   "metadata": {},
   "outputs": [],
   "source": [
    "# Cap/floor extreme values\n",
    "for col in df.columns: \n",
    "    df[col] = np.where(df[col] > upper_threshold[col], upper_threshold[col], df[col])\n",
    "    df[col] = np.where(df[col] < lower_threshold[col], lower_threshold[col], df[col])  "
   ]
  },
  {
   "cell_type": "markdown",
   "id": "f02b087e",
   "metadata": {},
   "source": [
    "We should not be dealing with any extreme outliers anymore, and our data will be more useful for modeling as a result."
   ]
  },
  {
   "cell_type": "markdown",
   "id": "4d22657f",
   "metadata": {},
   "source": [
    "### Normalizing features\n",
    "To make the data suitable for modeling, all features must be on a $[0, 1]$ scale so a feature with a larger value range does not overpower one with a smaller range of values. We will apply normalization to every column that is not already on this scale."
   ]
  },
  {
   "cell_type": "code",
   "execution_count": 14,
   "id": "4128427f",
   "metadata": {},
   "outputs": [
    {
     "data": {
      "text/html": [
       "<div>\n",
       "<style scoped>\n",
       "    .dataframe tbody tr th:only-of-type {\n",
       "        vertical-align: middle;\n",
       "    }\n",
       "\n",
       "    .dataframe tbody tr th {\n",
       "        vertical-align: top;\n",
       "    }\n",
       "\n",
       "    .dataframe thead th {\n",
       "        text-align: right;\n",
       "    }\n",
       "</style>\n",
       "<table border=\"1\" class=\"dataframe\">\n",
       "  <thead>\n",
       "    <tr style=\"text-align: right;\">\n",
       "      <th></th>\n",
       "      <th>temperature</th>\n",
       "      <th>humidity</th>\n",
       "      <th>wind_speed</th>\n",
       "      <th>precipitation</th>\n",
       "      <th>atmos_pressure</th>\n",
       "      <th>uv_index</th>\n",
       "      <th>visibility</th>\n",
       "      <th>weather_type</th>\n",
       "      <th>cloud_cover_cloudy</th>\n",
       "      <th>cloud_cover_overcast</th>\n",
       "      <th>cloud_cover_partly cloudy</th>\n",
       "      <th>season_spring</th>\n",
       "      <th>season_summer</th>\n",
       "      <th>season_winter</th>\n",
       "      <th>location_inland</th>\n",
       "      <th>location_mountain</th>\n",
       "    </tr>\n",
       "  </thead>\n",
       "  <tbody>\n",
       "    <tr>\n",
       "      <th>0</th>\n",
       "      <td>14.0</td>\n",
       "      <td>73.0</td>\n",
       "      <td>9.5</td>\n",
       "      <td>82.0</td>\n",
       "      <td>1010.82</td>\n",
       "      <td>2.0</td>\n",
       "      <td>3.5</td>\n",
       "      <td>1.0</td>\n",
       "      <td>0.0</td>\n",
       "      <td>0.0</td>\n",
       "      <td>1.0</td>\n",
       "      <td>0.0</td>\n",
       "      <td>0.0</td>\n",
       "      <td>1.0</td>\n",
       "      <td>1.0</td>\n",
       "      <td>0.0</td>\n",
       "    </tr>\n",
       "    <tr>\n",
       "      <th>1</th>\n",
       "      <td>39.0</td>\n",
       "      <td>96.0</td>\n",
       "      <td>8.5</td>\n",
       "      <td>71.0</td>\n",
       "      <td>1011.43</td>\n",
       "      <td>7.0</td>\n",
       "      <td>10.0</td>\n",
       "      <td>0.0</td>\n",
       "      <td>0.0</td>\n",
       "      <td>0.0</td>\n",
       "      <td>1.0</td>\n",
       "      <td>1.0</td>\n",
       "      <td>0.0</td>\n",
       "      <td>0.0</td>\n",
       "      <td>1.0</td>\n",
       "      <td>0.0</td>\n",
       "    </tr>\n",
       "    <tr>\n",
       "      <th>2</th>\n",
       "      <td>30.0</td>\n",
       "      <td>64.0</td>\n",
       "      <td>7.0</td>\n",
       "      <td>16.0</td>\n",
       "      <td>1018.72</td>\n",
       "      <td>5.0</td>\n",
       "      <td>5.5</td>\n",
       "      <td>3.0</td>\n",
       "      <td>0.0</td>\n",
       "      <td>0.0</td>\n",
       "      <td>0.0</td>\n",
       "      <td>1.0</td>\n",
       "      <td>0.0</td>\n",
       "      <td>0.0</td>\n",
       "      <td>0.0</td>\n",
       "      <td>1.0</td>\n",
       "    </tr>\n",
       "  </tbody>\n",
       "</table>\n",
       "</div>"
      ],
      "text/plain": [
       "   temperature  humidity  wind_speed  precipitation  atmos_pressure  uv_index  \\\n",
       "0         14.0      73.0         9.5           82.0         1010.82       2.0   \n",
       "1         39.0      96.0         8.5           71.0         1011.43       7.0   \n",
       "2         30.0      64.0         7.0           16.0         1018.72       5.0   \n",
       "\n",
       "   visibility  weather_type  cloud_cover_cloudy  cloud_cover_overcast  \\\n",
       "0         3.5           1.0                 0.0                   0.0   \n",
       "1        10.0           0.0                 0.0                   0.0   \n",
       "2         5.5           3.0                 0.0                   0.0   \n",
       "\n",
       "   cloud_cover_partly cloudy  season_spring  season_summer  season_winter  \\\n",
       "0                        1.0            0.0            0.0            1.0   \n",
       "1                        1.0            1.0            0.0            0.0   \n",
       "2                        0.0            1.0            0.0            0.0   \n",
       "\n",
       "   location_inland  location_mountain  \n",
       "0              1.0                0.0  \n",
       "1              1.0                0.0  \n",
       "2              0.0                1.0  "
      ]
     },
     "execution_count": 14,
     "metadata": {},
     "output_type": "execute_result"
    }
   ],
   "source": [
    "df.head(3)"
   ]
  },
  {
   "cell_type": "code",
   "execution_count": 15,
   "id": "8d3ce99d",
   "metadata": {},
   "outputs": [
    {
     "data": {
      "text/html": [
       "<div>\n",
       "<style scoped>\n",
       "    .dataframe tbody tr th:only-of-type {\n",
       "        vertical-align: middle;\n",
       "    }\n",
       "\n",
       "    .dataframe tbody tr th {\n",
       "        vertical-align: top;\n",
       "    }\n",
       "\n",
       "    .dataframe thead th {\n",
       "        text-align: right;\n",
       "    }\n",
       "</style>\n",
       "<table border=\"1\" class=\"dataframe\">\n",
       "  <thead>\n",
       "    <tr style=\"text-align: right;\">\n",
       "      <th></th>\n",
       "      <th>temperature</th>\n",
       "      <th>humidity</th>\n",
       "      <th>wind_speed</th>\n",
       "      <th>precipitation</th>\n",
       "      <th>atmos_pressure</th>\n",
       "      <th>uv_index</th>\n",
       "      <th>visibility</th>\n",
       "      <th>weather_type</th>\n",
       "      <th>cloud_cover_cloudy</th>\n",
       "      <th>cloud_cover_overcast</th>\n",
       "      <th>cloud_cover_partly cloudy</th>\n",
       "      <th>season_spring</th>\n",
       "      <th>season_summer</th>\n",
       "      <th>season_winter</th>\n",
       "      <th>location_inland</th>\n",
       "      <th>location_mountain</th>\n",
       "    </tr>\n",
       "  </thead>\n",
       "  <tbody>\n",
       "    <tr>\n",
       "      <th>4111</th>\n",
       "      <td>0.640000</td>\n",
       "      <td>0.2250</td>\n",
       "      <td>0.147259</td>\n",
       "      <td>0.06</td>\n",
       "      <td>0.786720</td>\n",
       "      <td>0.642857</td>\n",
       "      <td>0.641955</td>\n",
       "      <td>3.0</td>\n",
       "      <td>0.0</td>\n",
       "      <td>0.0</td>\n",
       "      <td>0.0</td>\n",
       "      <td>0.0</td>\n",
       "      <td>0.0</td>\n",
       "      <td>0.0</td>\n",
       "      <td>1.0</td>\n",
       "      <td>0.0</td>\n",
       "    </tr>\n",
       "    <tr>\n",
       "      <th>10607</th>\n",
       "      <td>1.000000</td>\n",
       "      <td>0.9250</td>\n",
       "      <td>0.474503</td>\n",
       "      <td>0.83</td>\n",
       "      <td>0.819145</td>\n",
       "      <td>0.714286</td>\n",
       "      <td>0.256782</td>\n",
       "      <td>3.0</td>\n",
       "      <td>0.0</td>\n",
       "      <td>0.0</td>\n",
       "      <td>0.0</td>\n",
       "      <td>0.0</td>\n",
       "      <td>1.0</td>\n",
       "      <td>0.0</td>\n",
       "      <td>1.0</td>\n",
       "      <td>0.0</td>\n",
       "    </tr>\n",
       "    <tr>\n",
       "      <th>7372</th>\n",
       "      <td>0.866667</td>\n",
       "      <td>0.3875</td>\n",
       "      <td>0.065449</td>\n",
       "      <td>0.12</td>\n",
       "      <td>0.816036</td>\n",
       "      <td>0.571429</td>\n",
       "      <td>0.513564</td>\n",
       "      <td>3.0</td>\n",
       "      <td>0.0</td>\n",
       "      <td>0.0</td>\n",
       "      <td>1.0</td>\n",
       "      <td>1.0</td>\n",
       "      <td>0.0</td>\n",
       "      <td>0.0</td>\n",
       "      <td>0.0</td>\n",
       "      <td>1.0</td>\n",
       "    </tr>\n",
       "    <tr>\n",
       "      <th>11786</th>\n",
       "      <td>0.240000</td>\n",
       "      <td>0.7375</td>\n",
       "      <td>0.212708</td>\n",
       "      <td>0.90</td>\n",
       "      <td>0.582175</td>\n",
       "      <td>0.000000</td>\n",
       "      <td>0.096293</td>\n",
       "      <td>2.0</td>\n",
       "      <td>0.0</td>\n",
       "      <td>1.0</td>\n",
       "      <td>0.0</td>\n",
       "      <td>0.0</td>\n",
       "      <td>0.0</td>\n",
       "      <td>1.0</td>\n",
       "      <td>1.0</td>\n",
       "      <td>0.0</td>\n",
       "    </tr>\n",
       "    <tr>\n",
       "      <th>12227</th>\n",
       "      <td>0.613333</td>\n",
       "      <td>0.9250</td>\n",
       "      <td>0.327243</td>\n",
       "      <td>1.00</td>\n",
       "      <td>0.834987</td>\n",
       "      <td>0.785714</td>\n",
       "      <td>0.577760</td>\n",
       "      <td>3.0</td>\n",
       "      <td>0.0</td>\n",
       "      <td>0.0</td>\n",
       "      <td>1.0</td>\n",
       "      <td>1.0</td>\n",
       "      <td>0.0</td>\n",
       "      <td>0.0</td>\n",
       "      <td>0.0</td>\n",
       "      <td>1.0</td>\n",
       "    </tr>\n",
       "  </tbody>\n",
       "</table>\n",
       "</div>"
      ],
      "text/plain": [
       "       temperature  humidity  wind_speed  precipitation  atmos_pressure  \\\n",
       "4111      0.640000    0.2250    0.147259           0.06        0.786720   \n",
       "10607     1.000000    0.9250    0.474503           0.83        0.819145   \n",
       "7372      0.866667    0.3875    0.065449           0.12        0.816036   \n",
       "11786     0.240000    0.7375    0.212708           0.90        0.582175   \n",
       "12227     0.613333    0.9250    0.327243           1.00        0.834987   \n",
       "\n",
       "       uv_index  visibility  weather_type  cloud_cover_cloudy  \\\n",
       "4111   0.642857    0.641955           3.0                 0.0   \n",
       "10607  0.714286    0.256782           3.0                 0.0   \n",
       "7372   0.571429    0.513564           3.0                 0.0   \n",
       "11786  0.000000    0.096293           2.0                 0.0   \n",
       "12227  0.785714    0.577760           3.0                 0.0   \n",
       "\n",
       "       cloud_cover_overcast  cloud_cover_partly cloudy  season_spring  \\\n",
       "4111                    0.0                        0.0            0.0   \n",
       "10607                   0.0                        0.0            0.0   \n",
       "7372                    0.0                        1.0            1.0   \n",
       "11786                   1.0                        0.0            0.0   \n",
       "12227                   0.0                        1.0            1.0   \n",
       "\n",
       "       season_summer  season_winter  location_inland  location_mountain  \n",
       "4111             0.0            0.0              1.0                0.0  \n",
       "10607            1.0            0.0              1.0                0.0  \n",
       "7372             0.0            0.0              0.0                1.0  \n",
       "11786            0.0            1.0              1.0                0.0  \n",
       "12227            0.0            0.0              0.0                1.0  "
      ]
     },
     "execution_count": 15,
     "metadata": {},
     "output_type": "execute_result"
    }
   ],
   "source": [
    "from sklearn.preprocessing import MinMaxScaler\n",
    "\n",
    "# Select columns for normalization\n",
    "columns_to_normalize = [\"temperature\", \"humidity\", \"wind_speed\", \"precipitation\", \"atmos_pressure\", \"uv_index\", \n",
    "                        \"visibility\"]\n",
    "\n",
    "# Initialize scaler\n",
    "scaler = MinMaxScaler()\n",
    "\n",
    "# Normalize columns\n",
    "df[columns_to_normalize] = scaler.fit_transform(df[columns_to_normalize])\n",
    "\n",
    "# Show normalized dataframe\n",
    "df.sample(5, random_state=42)"
   ]
  },
  {
   "cell_type": "markdown",
   "id": "356c8cd7",
   "metadata": {},
   "source": [
    "The data is now fully preprocessed and ready for modeling."
   ]
  },
  {
   "cell_type": "markdown",
   "id": "9e26f4d6",
   "metadata": {},
   "source": [
    "# Task 2.5\n",
    "<i>Formulate two questions that can be answered by employing ensemble learning.</i>\n",
    "\n",
    "<b>Question 1:</b> Can we predict the weather type more reliably using an ensemble model than with a single model alone? <br>\n",
    "<b>Question 2:</b> Can an ensemble model reduce prediction variance compared to a single model?\n",
    "\n",
    "Because these questions are very different, each will require a different ensemble to answer. For Q1, I will be employing random forest, XGBoost and stacking and comparing the results to those of a single model. For Q2, I will be finding the prediction variance for a random forest, XGBoost model, SVM, logistic regression model and k-nearest neighbors model individually, then combining their predictions with max voting and comparing the variance with that of each individual model. "
   ]
  },
  {
   "cell_type": "markdown",
   "id": "24da0620",
   "metadata": {},
   "source": [
    "# Task 2.6\n",
    "<i>If appropriate and relevant to your model, split the data into training and testing sets.</i>"
   ]
  },
  {
   "cell_type": "code",
   "execution_count": 16,
   "id": "0124c8ae",
   "metadata": {},
   "outputs": [],
   "source": [
    "from sklearn.model_selection import train_test_split\n",
    "\n",
    "# Select features and label\n",
    "x = df.drop(columns={\"weather_type\"})\n",
    "y = df[\"weather_type\"]\n",
    "\n",
    "# Split data into training and testing sets\n",
    "x_train, x_test, y_train, y_test = train_test_split(x, y, test_size=0.2, random_state=42)"
   ]
  },
  {
   "cell_type": "markdown",
   "id": "4f9a9247",
   "metadata": {},
   "source": [
    "# Task 2.7\n",
    "<i>Provide a diagram that illustrates how the ensemble components are combined into one learning model.</i>"
   ]
  },
  {
   "cell_type": "code",
   "execution_count": 17,
   "id": "8b9950b6",
   "metadata": {},
   "outputs": [
    {
     "data": {
      "image/png": "[encoded data removed]",
      "text/plain": [
       "<IPython.core.display.Image object>"
      ]
     },
     "execution_count": 17,
     "metadata": {},
     "output_type": "execute_result"
    }
   ],
   "source": [
    "from IPython.display import Image\n",
    "\n",
    "# Display ensemble method diagram\n",
    "Image(\"Ensemble Method Diagram.png\")"
   ]
  },
  {
   "cell_type": "markdown",
   "id": "80aed2e9",
   "metadata": {},
   "source": [
    "The ensemble process is relatively simple: each individual model (Random Forest and XGBoost in the case of the Q1 ensemble) produces a prediction, these predictions are aggregated using a technique like max voting or stacking, and then this aggregation technique produces a final prediction for the ensemble.  "
   ]
  },
  {
   "cell_type": "markdown",
   "id": "c60df037",
   "metadata": {},
   "source": [
    "# Tasks 2.8 and 2.9\n",
    "<b>2.8:</b><i> Implement and execute the ensemble learning model. Explain the intuition behind each mathematical step.</i><br>\n",
    "<b>2.9:</b><i> Answer the questions you formulated using the results obtained from executing the ensemble model.</i><br>\n",
    "<b>2.10:</b><i> Interpret the predictions made by the model in the context of the questions you asked.</i>"
   ]
  },
  {
   "cell_type": "markdown",
   "id": "fa032f4e",
   "metadata": {},
   "source": [
    "### Question 1: Can we predict the weather type more reliably using an ensemble model than with a single model alone?\n",
    "\n",
    "First, we need to fit the random forest and XGBoost models to the training set."
   ]
  },
  {
   "cell_type": "code",
   "execution_count": 18,
   "id": "a634a3ed",
   "metadata": {},
   "outputs": [],
   "source": [
    "from sklearn.ensemble import RandomForestClassifier\n",
    "from xgboost import XGBClassifier\n",
    "\n",
    "# Train random forest\n",
    "rf = RandomForestClassifier(n_estimators=100, random_state=42)\n",
    "rf.fit(x_train, y_train)\n",
    "\n",
    "# Train XGBoost\n",
    "xgb = XGBClassifier(n_estimators=100, random_state=42, eval_metric=\"logloss\")\n",
    "xgb.fit(x_train, y_train)\n",
    "\n",
    "# Generate predictions with random forest\n",
    "rf_pred_train = rf.predict_proba(x_train)[:, 1].reshape(-1, 1)\n",
    "rf_pred_test = rf.predict_proba(x_test)[:, 1].reshape(-1, 1)\n",
    "\n",
    "# Generate predictions with XGBoost\n",
    "xgb_pred_train = xgb.predict_proba(x_train)[:, 1].reshape(-1, 1)\n",
    "xgb_pred_test = xgb.predict_proba(x_test)[:, 1].reshape(-1, 1)"
   ]
  },
  {
   "cell_type": "markdown",
   "id": "7e942de6",
   "metadata": {},
   "source": [
    "Now that we have predictions for both the random forest and XGBoost, we can aggregate them and use this aggregation to train the stacking model. This stacking model commonly employs logistic regression, so we will use that. "
   ]
  },
  {
   "cell_type": "code",
   "execution_count": 19,
   "id": "553a2f87",
   "metadata": {},
   "outputs": [],
   "source": [
    "from sklearn.linear_model import LogisticRegression\n",
    "\n",
    "# Create training and testing sets for stacking model\n",
    "stack_train = np.hstack((rf_pred_train, xgb_pred_train))\n",
    "stack_test = np.hstack((rf_pred_test, xgb_pred_test))\n",
    "\n",
    "# Train stacking model\n",
    "stacker = LogisticRegression()\n",
    "stacker.fit(stack_train, y_train);"
   ]
  },
  {
   "cell_type": "markdown",
   "id": "3201378a",
   "metadata": {},
   "source": [
    "Now that we have the stacker created, all we need to do is make predictions with all three (RF, XGBoost and stacker) and get their accuracy scores. I predict that the stacker will have the highest accuracy score, as it benefits from both the random forest and XGBoost models.\n",
    "\n",
    "Accuracy is computed using the following formula: \n",
    "$Accuracy = \\frac{Correct Predictions}{Total Predictions} = \\frac{TP + TN}{TP + TN + FP + FN}$, \n",
    "where TP is true positives, TN is true negatives, FP is false positives, and FN is false negatives."
   ]
  },
  {
   "cell_type": "code",
   "execution_count": 20,
   "id": "7871fb29",
   "metadata": {},
   "outputs": [
    {
     "name": "stdout",
     "output_type": "stream",
     "text": [
      "RF: 0.91326\n",
      "XGB: 0.91023\n",
      "STACK: 0.46515\n"
     ]
    }
   ],
   "source": [
    "from sklearn.metrics import accuracy_score\n",
    "\n",
    "# Get accuracy of a single random forest\n",
    "rf_preds = rf.predict(x_test)\n",
    "rf_accuracy = accuracy_score(y_test, rf_preds)\n",
    "print(f\"RF: {round(rf_accuracy, 5)}\")\n",
    "\n",
    "# Get accuracy of a single XGBoost model\n",
    "xgb_preds = xgb.predict(x_test)\n",
    "xgb_accuracy = accuracy_score(y_test, xgb_preds)\n",
    "print(f\"XGB: {round(xgb_accuracy, 5)}\")\n",
    "\n",
    "# Get accuracy of stacking model\n",
    "stack_preds = stacker.predict(stack_test)\n",
    "stack_accuracy = accuracy_score(y_test, stack_preds)\n",
    "print(f\"STACK: {round(stack_accuracy, 5)}\")"
   ]
  },
  {
   "cell_type": "markdown",
   "id": "d035d9b0",
   "metadata": {},
   "source": [
    "The stacking model did not yield any improvements in accuracy, and in fact reduced accuracy compared to the individual models by about half. This could be because of technical or logical issues beyond the scope of this assignment. Regardless, both the random forest and XGBoost models achieve an accuracy of over 90%, meaning they are already highly effective at prediction on their own, making an ensemble method unnecessary for this task. \n",
    "\n",
    "To answer the original question, it is plausible that an ensemble model could improve the accuracy of predictions as opposed to a single model by itself, but the particular ensemble configuration I used does not seem to yield the results we want. Thus, it is not guaranteed that weather is more effectively predicted by an ensemble than by an individual model like a random forest or XGBoost. "
   ]
  },
  {
   "cell_type": "markdown",
   "id": "fd55501a",
   "metadata": {},
   "source": [
    "### Question 2: Can an ensemble model reduce prediction variance compared to a single model?\n",
    "\n",
    "Here, I will be training instances of the Random Forest, XGBoost, Support Vector Machine (SVM), Logistic Regression and K-Nearest Neighbors models, aggregating these results using max voting, and comparing them to those of each individual model. We can reuse the random forest and XGBoost models defined in the first problem, and the remaining three should be straightforward to train. From there, we can apply max voting to combine the predictions of the five models. We will then compare the prediction variance of the overall model with that of each individual model.\n",
    "\n",
    "As a brief overview of the model types not already described in this assignment: \n",
    "* A <b>Support Vector Machine (SVM)</b> is a supervised learning model that finds the optimal hyperplane which separates data into different classes. It does this through the use of support vectors, and can use what is known as the \"kernel trick\" to project nonlinear data into higher-dimensional spaces where it becomes linearly separable.\n",
    "* A <b>Logistic Regression</b> model is used to classify data points by applying a logistic function to a linear combination of features, resulting in clear and interpretable decision boundaries.\n",
    "* Finally, <b>K-Nearest Neighbors (KNN)</b> is an algorithm that classifies a data point based on the most common class among the k nearest data points in the feature space. It is simple to deploy due to its lack of parameters, but is still highly effective for classification tasks."
   ]
  },
  {
   "cell_type": "code",
   "execution_count": 21,
   "id": "fa394bf0",
   "metadata": {},
   "outputs": [
    {
     "name": "stdout",
     "output_type": "stream",
     "text": [
      "INDIVIDUAL MODEL ACCURACIES\n",
      "RF: 0.91326\n",
      "XGB: 0.91023\n",
      "SVM: 0.89924\n",
      "LOG: 0.86932\n",
      "KNN: 0.89129\n"
     ]
    }
   ],
   "source": [
    "from sklearn.svm import SVC\n",
    "from sklearn.neighbors import KNeighborsClassifier\n",
    "\n",
    "# Train SVM and calculate accuracy score\n",
    "svm = SVC(kernel=\"rbf\", C=1.0, gamma=\"scale\", random_state=42)\n",
    "svm.fit(x_train, y_train)\n",
    "svm_preds = svm.predict(x_test)\n",
    "svm_accuracy = accuracy_score(y_test, svm_preds)\n",
    "\n",
    "# Train logistic regression model\n",
    "log = LogisticRegression(random_state=42, max_iter=1000)\n",
    "log.fit(x_train, y_train)\n",
    "log_preds = log.predict(x_test)\n",
    "log_accuracy = accuracy_score(y_test, log_preds)\n",
    "\n",
    "# Train k-nearest neighbors model\n",
    "knn = KNeighborsClassifier(n_neighbors=5)\n",
    "knn.fit(x_train, y_train)\n",
    "knn_preds = knn.predict(x_test)\n",
    "knn_accuracy = accuracy_score(y_test, knn_preds)\n",
    "\n",
    "# Function to print model accuracies to n decimal places\n",
    "def print_model_accuracies(n): \n",
    "    print(\"INDIVIDUAL MODEL ACCURACIES\")\n",
    "    print(f\"RF: {round(rf_accuracy, n)}\")\n",
    "    print(f\"XGB: {round(xgb_accuracy, n)}\")\n",
    "    print(f\"SVM: {round(svm_accuracy, n)}\")\n",
    "    print(f\"LOG: {round(log_accuracy, n)}\")\n",
    "    print(f\"KNN: {round(knn_accuracy, n)}\")\n",
    "\n",
    "# Show model accuracies\n",
    "print_model_accuracies(5)"
   ]
  },
  {
   "cell_type": "markdown",
   "id": "81a2e6ca",
   "metadata": {},
   "source": [
    "Straight away, we can see that the new SVM, logistic regression and k-nearest neighbors models are all pretty accurate, though not quite as much so as the existing random forest and XGBoost models. Let's calculate the prediction variance of all five models using cross-validation. \n",
    "\n",
    "Variance is calculated using this formula: $Variance = \\frac{1}{N} \\sum_{i=1}^{N} (x_i - \\mu)^2$, where $N$ is the number of predictions, $x_i$ is the $i$th prediction, and $\\mu$ is the mean of those predictions.\n"
   ]
  },
  {
   "cell_type": "code",
   "execution_count": 22,
   "id": "120077b2",
   "metadata": {},
   "outputs": [
    {
     "name": "stdout",
     "output_type": "stream",
     "text": [
      "INDIVIDUAL MODEL VARIANCES\n",
      "RF: 1.23556\n",
      "XGB: 1.22679\n",
      "SVM: 1.23856\n",
      "LOG: 1.2031\n",
      "KNN: 1.24489\n"
     ]
    }
   ],
   "source": [
    "from sklearn.model_selection import cross_val_predict, StratifiedKFold\n",
    "\n",
    "# Function to calculate prediction variance\n",
    "def calculate_prediction_variance(model, x, y, cv): \n",
    "    preds = cross_val_predict(model, x, y, cv=cv, method=\"predict\")\n",
    "    pred_var = np.var(preds)\n",
    "    return pred_var\n",
    "\n",
    "# Initialize stratified k-fold validation object\n",
    "cv = StratifiedKFold(n_splits=10, shuffle=True, random_state=42)\n",
    "\n",
    "# Calculate prediction variance for each model\n",
    "rf_var = calculate_prediction_variance(rf, x_test, y_test, cv)\n",
    "xgb_var = calculate_prediction_variance(xgb, x_test, y_test, cv)\n",
    "svm_var = calculate_prediction_variance(svm, x_test, y_test, cv)\n",
    "log_var = calculate_prediction_variance(log, x_test, y_test, cv)\n",
    "knn_var = calculate_prediction_variance(knn, x_test, y_test, cv)\n",
    "\n",
    "# Function to print model prediction variances to n decimal places\n",
    "def print_model_variances(n): \n",
    "    print(\"INDIVIDUAL MODEL VARIANCES\")\n",
    "    print(f\"RF: {round(rf_var, n)}\")\n",
    "    print(f\"XGB: {round(xgb_var, n)}\")\n",
    "    print(f\"SVM: {round(svm_var, n)}\")\n",
    "    print(f\"LOG: {round(log_var, n)}\")\n",
    "    print(f\"KNN: {round(knn_var, n)}\")\n",
    "\n",
    "# Show model variances\n",
    "print_model_variances(5)"
   ]
  },
  {
   "cell_type": "markdown",
   "id": "0f775b61",
   "metadata": {},
   "source": [
    "Now let's create the ensemble and see how its accuracy compares to that of each individual model. "
   ]
  },
  {
   "cell_type": "code",
   "execution_count": 23,
   "id": "d0e308db",
   "metadata": {},
   "outputs": [],
   "source": [
    "from sklearn.ensemble import VotingClassifier\n",
    "\n",
    "# Create ensemble\n",
    "ensemble = VotingClassifier(estimators=[\n",
    "    (\"rf\", rf), (\"xgb\", xgb), (\"svm\", svm), (\"log\", log), (\"knn\", knn)], voting=\"hard\")\n",
    "\n",
    "# Train ensemble\n",
    "ensemble.fit(x_train, y_train)\n",
    "\n",
    "# Generate ensemble predictions\n",
    "ensemble_preds = ensemble.predict(x_test)"
   ]
  },
  {
   "cell_type": "code",
   "execution_count": 24,
   "id": "8a9ec983",
   "metadata": {},
   "outputs": [
    {
     "name": "stdout",
     "output_type": "stream",
     "text": [
      "Ensemble accuracy: 0.90341\n",
      "\n",
      "INDIVIDUAL MODEL ACCURACIES\n",
      "RF: 0.91326\n",
      "XGB: 0.91023\n",
      "SVM: 0.89924\n",
      "LOG: 0.86932\n",
      "KNN: 0.89129\n"
     ]
    }
   ],
   "source": [
    "# Display ensemble accuracy\n",
    "ensemble_accuracy = accuracy_score(y_test, ensemble_preds)\n",
    "print(f\"Ensemble accuracy: {round(ensemble_accuracy, 5)}\")\n",
    "print()\n",
    "print_model_accuracies(5)"
   ]
  },
  {
   "cell_type": "markdown",
   "id": "5ae7c47a",
   "metadata": {},
   "source": [
    "The ensemble model is highly accurate at over 90%, but its performance falls short of the random forest and XGBoost models by themselves."
   ]
  },
  {
   "cell_type": "code",
   "execution_count": 25,
   "id": "8cd16a1a",
   "metadata": {},
   "outputs": [
    {
     "name": "stdout",
     "output_type": "stream",
     "text": [
      "Ensemble variance: 1.23201\n",
      "\n",
      "INDIVIDUAL MODEL VARIANCES\n",
      "RF: 1.23556\n",
      "XGB: 1.22679\n",
      "SVM: 1.23856\n",
      "LOG: 1.2031\n",
      "KNN: 1.24489\n"
     ]
    }
   ],
   "source": [
    "# Calculate ensemble prediction variance\n",
    "ensemble_var = calculate_prediction_variance(ensemble, x_test, y_test, cv)\n",
    "\n",
    "# Display ensemble prediction variance\n",
    "print(f\"Ensemble variance: {round(ensemble_var, 5)}\")\n",
    "print()\n",
    "print_model_variances(5)"
   ]
  },
  {
   "cell_type": "markdown",
   "id": "70497bca",
   "metadata": {},
   "source": [
    "The ensemble has a lower variance than a random forest, SVM or KNN model, but higher variance than an XGBoost or logistic regression model. Therefore, this particular ensemble does not guarantee a lower prediction variance when predicting the weather type compared to an individual model. \n",
    "\n",
    "It seems that a single XGBoost model performs better than this ensemble in terms of both accuracy and prediction variance, so that could be the best overall model type to employ for this kind of task going forward. "
   ]
  },
  {
   "cell_type": "markdown",
   "id": "31f8593d",
   "metadata": {},
   "source": [
    "# Task 2.11\n",
    "<i>Validate your model using relevant validation metrics such as a confusion matrix, accuracy score, ROC-AUC curves, and k-fold cross validation. Then, explain the results.</i>\n",
    "\n",
    "Here, we will validate the models from each task that yielded the best results. The random forest achieved the best accuracy for Q1, almost twice that of the stacking model, and the XGBoost model had a higher accuracy and lower variance than the ensemble on Q2, so validation of these models' performances makes the most sense. \n",
    "\n",
    "### Validating the random forest"
   ]
  },
  {
   "cell_type": "code",
   "execution_count": 26,
   "id": "628d7523",
   "metadata": {},
   "outputs": [
    {
     "name": "stdout",
     "output_type": "stream",
     "text": [
      "RF accuracy: 0.91326 (91.326%)\n",
      "\n",
      "Random Forest Confusion Matrix\n",
      "[[589  34  17  11]\n",
      " [ 37 584   6  20]\n",
      " [ 18  15 658  10]\n",
      " [ 22  19  20 580]]\n"
     ]
    }
   ],
   "source": [
    "from sklearn.metrics import confusion_matrix, classification_report, accuracy_score\n",
    "\n",
    "# Show RF accuracy again\n",
    "print(f\"RF accuracy: {round(rf_accuracy, 5)} ({round(rf_accuracy*100, 3)}%)\")\n",
    "print()\n",
    "\n",
    "# Generate RF confusion matrix\n",
    "rf_cm = confusion_matrix(y_test, rf_preds)\n",
    "print(f\"Random Forest Confusion Matrix\\n{rf_cm}\")"
   ]
  },
  {
   "cell_type": "markdown",
   "id": "ca2ce1f9",
   "metadata": {},
   "source": [
    "To interpret this confusion matrix, we'll need to look at the original label values and match them with encoded label values."
   ]
  },
  {
   "cell_type": "code",
   "execution_count": 27,
   "id": "f75b9c3d",
   "metadata": {},
   "outputs": [
    {
     "name": "stdout",
     "output_type": "stream",
     "text": [
      "Original label values: ['rainy' 'cloudy' 'sunny' 'snowy']\n",
      "Encoded label values: [1 0 3 2]\n"
     ]
    }
   ],
   "source": [
    "# Find mapping of original weather types to encoded values\n",
    "print(f\"Original label values: {original_label_values}\")\n",
    "print(f\"Encoded label values: {encoded_label_values}\")"
   ]
  },
  {
   "cell_type": "markdown",
   "id": "040faed0",
   "metadata": {},
   "source": [
    "We see that cloudy = 0, rainy = 1, snowy = 2, and sunny = 3. Thus, the confusion matrix looks like this: \n",
    "\n",
    "<table>\n",
    "    <tr>\n",
    "        <td></td>\n",
    "        <td>Pred. Cloudy</td>\n",
    "        <td>Pred. Rainy</td>\n",
    "        <td>Pred. Snowy</td>\n",
    "        <td>Pred. Sunny</td>\n",
    "    </tr>\n",
    "    <tr>\n",
    "        <td>Act. Cloudy</td>\n",
    "        <td>589</td>\n",
    "        <td>34</td>\n",
    "        <td>17</td>\n",
    "        <td>11</td>\n",
    "    </tr>\n",
    "    <tr>\n",
    "        <td>Act. Rainy</td>\n",
    "        <td>37</td>\n",
    "        <td>584</td>\n",
    "        <td>6</td>\n",
    "        <td>20</td>\n",
    "    </tr>\n",
    "    <tr>\n",
    "        <td>Act. Snowy</td>\n",
    "        <td>18</td>\n",
    "        <td>15</td>\n",
    "        <td>658</td>\n",
    "        <td>10</td>\n",
    "    </tr>\n",
    "    <tr>\n",
    "        <td>Act. Sunny</td>\n",
    "        <td>22</td>\n",
    "        <td>19</td>\n",
    "        <td>20</td>\n",
    "        <td>580</td>\n",
    "    </tr>\n",
    "    </table>"
   ]
  },
  {
   "cell_type": "markdown",
   "id": "b3611449",
   "metadata": {},
   "source": [
    "The values on the main diagonal indicate correct predictions and are by far the largest, putting the confusion matrix in line with the accuracy score from earlier. Misclassifications of the weather as cloudy when it was actually rainy and vice versa are more common than other types of misclassifications, but this is understandable given the high overlap in conditions between cloudy and rainy weather.\n",
    "\n",
    "We will wrap up our evaluation of the random forest by performing k-fold cross-validation to see how well it generalizes to unseen data."
   ]
  },
  {
   "cell_type": "code",
   "execution_count": 28,
   "id": "4ed91a8a",
   "metadata": {},
   "outputs": [],
   "source": [
    "from sklearn.model_selection import cross_val_score\n",
    "\n",
    "# Perform k-fold cross-validation with 5 folds\n",
    "rf_cv_scores = cross_val_score(rf, x_train, y_train, cv=5, scoring=\"accuracy\")"
   ]
  },
  {
   "cell_type": "code",
   "execution_count": 29,
   "id": "d2d968aa",
   "metadata": {},
   "outputs": [
    {
     "name": "stdout",
     "output_type": "stream",
     "text": [
      "RF CrossVal Scores: [0.91761364 0.91382576 0.90814394 0.9157197  0.92045455]\n",
      "Average CrossVal Score: 0.91515\n",
      "Accuracy Score: 0.91326\n"
     ]
    }
   ],
   "source": [
    "# Display results\n",
    "print(f\"RF CrossVal Scores: {rf_cv_scores}\")\n",
    "print(f\"Average CrossVal Score: {round(np.mean(rf_cv_scores), 5)}\")\n",
    "print(f\"Accuracy Score: {round(rf_accuracy, 5)}\")"
   ]
  },
  {
   "cell_type": "markdown",
   "id": "f59eed6e",
   "metadata": {},
   "source": [
    "We get an average cross-validation score of about 91.5%, which is pretty close to our accuracy score. Thus, the random forest is highly generalizable to new data, and is thus a powerful tool on its own (outside of an ensemble) for predicting the weather type based on factors like humidity, atmospheric pressure and visibility."
   ]
  },
  {
   "cell_type": "markdown",
   "id": "b79c5eec",
   "metadata": {},
   "source": [
    "### Validating the XGBoost model"
   ]
  },
  {
   "cell_type": "code",
   "execution_count": 30,
   "id": "8ff065e0",
   "metadata": {},
   "outputs": [
    {
     "name": "stdout",
     "output_type": "stream",
     "text": [
      "XGB accuracy: 0.91023 (91.023%)\n",
      "XGB variance: 1.22679\n",
      "\n",
      "XGBoost Confusion Matrix\n",
      "[[579  38  18  16]\n",
      " [ 31 581  21  14]\n",
      " [ 17  12 665   7]\n",
      " [ 25  20  18 578]]\n"
     ]
    }
   ],
   "source": [
    "# Show XGB accuracy again\n",
    "print(f\"XGB accuracy: {round(xgb_accuracy, 5)} ({round(xgb_accuracy*100, 3)}%)\")\n",
    "print(f\"XGB variance: {round(xgb_var, 5)}\")\n",
    "print()\n",
    "\n",
    "# Generate XGB confusion matrix\n",
    "xgb_cm = confusion_matrix(y_test, xgb_preds)\n",
    "print(f\"XGBoost Confusion Matrix\\n{xgb_cm}\")"
   ]
  },
  {
   "cell_type": "markdown",
   "id": "300cb409",
   "metadata": {},
   "source": [
    "This is the labeled CM: \n",
    "\n",
    "<table>\n",
    "    <tr>\n",
    "        <td></td>\n",
    "        <td>Pred. Cloudy</td>\n",
    "        <td>Pred. Rainy</td>\n",
    "        <td>Pred. Snowy</td>\n",
    "        <td>Pred. Sunny</td>\n",
    "    </tr>\n",
    "    <tr>\n",
    "        <td>Act. Cloudy</td>\n",
    "        <td>579</td>\n",
    "        <td>38</td>\n",
    "        <td>18</td>\n",
    "        <td>16</td>\n",
    "    </tr>\n",
    "    <tr>\n",
    "        <td>Act. Rainy</td>\n",
    "        <td>31</td>\n",
    "        <td>581</td>\n",
    "        <td>21</td>\n",
    "        <td>14</td>\n",
    "    </tr>\n",
    "    <tr>\n",
    "        <td>Act. Snowy</td>\n",
    "        <td>17</td>\n",
    "        <td>12</td>\n",
    "        <td>665</td>\n",
    "        <td>7</td>\n",
    "    </tr>\n",
    "    <tr>\n",
    "        <td>Act. Sunny</td>\n",
    "        <td>25</td>\n",
    "        <td>20</td>\n",
    "        <td>18</td>\n",
    "        <td>578</td>\n",
    "    </tr>\n",
    "</table>"
   ]
  },
  {
   "cell_type": "markdown",
   "id": "e29e7130",
   "metadata": {},
   "source": [
    "Once again, correct predictions comprise the vast majority of predictions, and predicting rain when it's cloudy and vice versa is more common than other mistakes.\n",
    "\n",
    "Let's see how well this XGBoost model performs under k-fold cross-validation."
   ]
  },
  {
   "cell_type": "code",
   "execution_count": 31,
   "id": "ab6b61a1",
   "metadata": {},
   "outputs": [],
   "source": [
    "# Perform k-fold cross-validation with 5 folds\n",
    "xgb_cv_scores = cross_val_score(xgb, x_train, y_train, cv=5, scoring=\"accuracy\")"
   ]
  },
  {
   "cell_type": "code",
   "execution_count": 32,
   "id": "de68aba2",
   "metadata": {},
   "outputs": [
    {
     "name": "stdout",
     "output_type": "stream",
     "text": [
      "XGB CrossVal Scores: [0.9157197  0.91145833 0.90909091 0.91382576 0.92045455]\n",
      "Average CrossVal Score: 0.91411\n",
      "Accuracy Score: 0.91023\n"
     ]
    }
   ],
   "source": [
    "# Display results\n",
    "print(f\"XGB CrossVal Scores: {xgb_cv_scores}\")\n",
    "print(f\"Average CrossVal Score: {round(np.mean(xgb_cv_scores), 5)}\")\n",
    "print(f\"Accuracy Score: {round(xgb_accuracy, 5)}\")"
   ]
  },
  {
   "cell_type": "markdown",
   "id": "1265802a",
   "metadata": {},
   "source": [
    "Just like with the random forest, the cross-validation score is right near the accuracy score, and is actually slightly higher. This means that both the random forest and XGBoost models are effective for classification tasks on their own, and do not require the support of additional models within an ensemble."
   ]
  },
  {
   "cell_type": "markdown",
   "id": "ff5d34bb",
   "metadata": {},
   "source": [
    "# Task 2.12\n",
    "<i>Explain how ensemble system reduced the variance.</i>\n",
    "\n",
    "The second question was where I explored whether an ensemble could reduce prediction variance compared to a single model alone, and these were the results: "
   ]
  },
  {
   "cell_type": "code",
   "execution_count": 33,
   "id": "da3bec89",
   "metadata": {},
   "outputs": [
    {
     "name": "stdout",
     "output_type": "stream",
     "text": [
      "Ensemble variance: 1.23201\n",
      "\n",
      "INDIVIDUAL MODEL VARIANCES\n",
      "RF: 1.23556\n",
      "XGB: 1.22679\n",
      "SVM: 1.23856\n",
      "LOG: 1.2031\n",
      "KNN: 1.24489\n"
     ]
    }
   ],
   "source": [
    "# Display ensemble prediction variance\n",
    "print(f\"Ensemble variance: {round(ensemble_var, 5)}\")\n",
    "print()\n",
    "print_model_variances(5)"
   ]
  },
  {
   "cell_type": "markdown",
   "id": "dd8b9056",
   "metadata": {},
   "source": [
    "The ensemble had less variance than the SVM, random forest and k-nearest neighbors models by themselves, but the XGBoost and logistic regression models beat it in this area. Thus, the ensemble did not reduce variance compared to each individual model on its own. Based on both accuracy and variance scores for the individual models compared to the ensemble, I conclude that an individual random forest or XGBoost model is superior to the 5-model ensemble I created."
   ]
  },
  {
   "cell_type": "markdown",
   "id": "288bd981",
   "metadata": {},
   "source": [
    "# Task 2.13\n",
    "<i>Include all mathematical formulas used and graphs representing the final outcomes.</i>\n",
    "\n",
    "All relevant formulas and graphs have been included in their respective tasks.\n",
    "\n",
    "# References\n",
    "* Lutins, E. (2018, June 17). Ensemble Methods in Machine Learning: What are They and Why Use Them? Medium. https://towardsdatascience.com/ensemble-methods-in-machine-learning-what-are-they-and-why-use-them-68ec3f9fef5f#:~:text=Ensemble%20methods%20is%20a%20machine%20learning%20technique%20that,in%20order%20to%20produce%20one%20optimal%20predictive%20model.\n",
    "* What is ensemble learning? | IBM. (n.d.). https://www.ibm.com/topics/ensemble-learning\n",
    "* Weather Type Classification. (2024, June 23). Kaggle. https://www.kaggle.com/datasets/nikhil7280/weather-type-classification\n",
    "* OpenAI. (2024). ChatGPT [Large language model]. https://chatgpt.com/\n",
    "* Microsoft. (2024). Copilot [Large language model]. https://www.bing.com/?FORM=Z9FD1"
   ]
  }
 ],
 "metadata": {
  "kernelspec": {
   "display_name": "Python 3 (ipykernel)",
   "language": "python",
   "name": "python3"
  },
  "language_info": {
   "codemirror_mode": {
    "name": "ipython",
    "version": 3
   },
   "file_extension": ".py",
   "mimetype": "text/x-python",
   "name": "python",
   "nbconvert_exporter": "python",
   "pygments_lexer": "ipython3",
   "version": "3.11.5"
  }
 },
 "nbformat": 4,
 "nbformat_minor": 5
}
